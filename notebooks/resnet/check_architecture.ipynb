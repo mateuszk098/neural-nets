{
 "cells": [
  {
   "cell_type": "code",
   "execution_count": 1,
   "metadata": {},
   "outputs": [],
   "source": [
    "import torch\n",
    "from torchvision import models\n",
    "\n",
    "from nns.resnet.net import ResNet, Structure\n"
   ]
  },
  {
   "cell_type": "code",
   "execution_count": 17,
   "metadata": {},
   "outputs": [],
   "source": [
    "x = torch.randn(1, 3, 224, 224)"
   ]
  },
  {
   "cell_type": "code",
   "execution_count": 18,
   "metadata": {},
   "outputs": [
    {
     "data": {
      "text/plain": [
       "<All keys matched successfully>"
      ]
     },
     "execution_count": 18,
     "metadata": {},
     "output_type": "execute_result"
    }
   ],
   "source": [
    "# If the implementations are correct we should be able to load the weights from torchvision.\n",
    "weights18 = models.ResNet18_Weights.DEFAULT.get_state_dict()\n",
    "resnet18 = ResNet(Structure.BASIC, [2, 2, 2, 2], 1000)\n",
    "resnet18(x)  # Initialize weights.\n",
    "resnet18.load_state_dict(weights18)\n"
   ]
  },
  {
   "cell_type": "code",
   "execution_count": 19,
   "metadata": {},
   "outputs": [
    {
     "data": {
      "text/plain": [
       "<All keys matched successfully>"
      ]
     },
     "execution_count": 19,
     "metadata": {},
     "output_type": "execute_result"
    }
   ],
   "source": [
    "weights34 = models.ResNet34_Weights.DEFAULT.get_state_dict()\n",
    "resnet34 = ResNet(Structure.BASIC, [3, 4, 6, 3], 1000)\n",
    "resnet34(x)\n",
    "resnet34.load_state_dict(weights34)"
   ]
  },
  {
   "cell_type": "code",
   "execution_count": 20,
   "metadata": {},
   "outputs": [
    {
     "data": {
      "text/plain": [
       "<All keys matched successfully>"
      ]
     },
     "execution_count": 20,
     "metadata": {},
     "output_type": "execute_result"
    }
   ],
   "source": [
    "weights50 = models.ResNet50_Weights.DEFAULT.get_state_dict()\n",
    "resnet50 = ResNet(Structure.BOTTLENECK, [3, 4, 6, 3], 1000)\n",
    "resnet50(x)\n",
    "resnet50.load_state_dict(weights50)"
   ]
  },
  {
   "cell_type": "code",
   "execution_count": 21,
   "metadata": {},
   "outputs": [
    {
     "data": {
      "text/plain": [
       "<All keys matched successfully>"
      ]
     },
     "execution_count": 21,
     "metadata": {},
     "output_type": "execute_result"
    }
   ],
   "source": [
    "weights101 = models.ResNet101_Weights.DEFAULT.get_state_dict()\n",
    "resnet101 = ResNet(Structure.BOTTLENECK, [3, 4, 23, 3], 1000)\n",
    "resnet101(x)\n",
    "resnet101.load_state_dict(weights101)"
   ]
  },
  {
   "cell_type": "code",
   "execution_count": 22,
   "metadata": {},
   "outputs": [
    {
     "data": {
      "text/plain": [
       "<All keys matched successfully>"
      ]
     },
     "execution_count": 22,
     "metadata": {},
     "output_type": "execute_result"
    }
   ],
   "source": [
    "weights152 = models.ResNet152_Weights.DEFAULT.get_state_dict()\n",
    "resnet152 = ResNet(Structure.BOTTLENECK, [3, 8, 36, 3], 1000)\n",
    "resnet152(x)\n",
    "resnet152.load_state_dict(weights152)"
   ]
  }
 ],
 "metadata": {
  "kernelspec": {
   "display_name": "neural-nets",
   "language": "python",
   "name": "python3"
  },
  "language_info": {
   "codemirror_mode": {
    "name": "ipython",
    "version": 3
   },
   "file_extension": ".py",
   "mimetype": "text/x-python",
   "name": "python",
   "nbconvert_exporter": "python",
   "pygments_lexer": "ipython3",
   "version": "3.12.1"
  }
 },
 "nbformat": 4,
 "nbformat_minor": 2
}
