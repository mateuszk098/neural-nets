{
 "cells": [
  {
   "cell_type": "code",
   "execution_count": 233,
   "metadata": {},
   "outputs": [],
   "source": [
    "from dataclasses import dataclass\n",
    "\n",
    "import matplotlib.pyplot as plt\n",
    "import numpy as np\n",
    "from numpy.typing import NDArray\n",
    "from sklearn.datasets import load_digits, load_iris\n",
    "from sklearn.metrics import confusion_matrix\n",
    "from sklearn.model_selection import train_test_split\n",
    "\n",
    "plt.rcParams[\"text.usetex\"] = True\n",
    "plt.rcParams[\"axes.spines.right\"] = False\n",
    "plt.rcParams[\"axes.spines.top\"] = False\n",
    "plt.rcParams[\"axes.spines.left\"] = False\n",
    "plt.rcParams[\"axes.spines.bottom\"] = False\n",
    "\n",
    "plt.style.use(\"seaborn-v0_8-whitegrid\")"
   ]
  },
  {
   "cell_type": "markdown",
   "metadata": {},
   "source": [
    "### **1. Simple Neural Network for Iris Dataset**"
   ]
  },
  {
   "cell_type": "code",
   "execution_count": 18,
   "metadata": {},
   "outputs": [
    {
     "name": "stdout",
     "output_type": "stream",
     "text": [
      ".. _iris_dataset:\n",
      "\n",
      "Iris plants dataset\n",
      "--------------------\n",
      "\n",
      "**Data Set Characteristics:**\n",
      "\n",
      ":Number of Instances: 150 (50 in each of three classes)\n",
      ":Number of Attributes: 4 numeric, predictive attributes and the class\n",
      ":Attribute Information:\n",
      "    - sepal length in cm\n",
      "    - sepal width in cm\n",
      "    - petal length in cm\n",
      "    - petal width in cm\n",
      "    - class:\n",
      "            - Iris-Setosa\n",
      "            - Iris-Versicolour\n",
      "            - Iris-Virginica\n",
      "\n",
      ":Summary Statistics:\n",
      "\n",
      "============== ==== ==== ======= ===== ====================\n",
      "                Min  Max   Mean    SD   Class Correlation\n",
      "============== ==== ==== ======= ===== ====================\n",
      "sepal length:   4.3  7.9   5.84   0.83    0.7826\n",
      "sepal width:    2.0  4.4   3.05   0.43   -0.4194\n",
      "petal length:   1.0  6.9   3.76   1.76    0.9490  (high!)\n",
      "petal width:    0.1  2.5   1.20   0.76    0.9565  (high!)\n",
      "============== ==== ==== ======= ===== ====================\n",
      "\n",
      ":Missing Attribute Values: None\n",
      ":Class Distribution: 33.3% for each of 3 classes.\n",
      ":Creator: R.A. Fisher\n",
      ":Donor: Michael Marshall (MARSHALL%PLU@io.arc.nasa.gov)\n",
      ":Date: July, 1988\n",
      "\n",
      "The famous Iris database, first used by Sir R.A. Fisher. The dataset is taken\n",
      "from Fisher's paper. Note that it's the same as in R, but not as in the UCI\n",
      "Machine Learning Repository, which has two wrong data points.\n",
      "\n",
      "This is perhaps the best known database to be found in the\n",
      "pattern recognition literature.  Fisher's paper is a classic in the field and\n",
      "is referenced frequently to this day.  (See Duda & Hart, for example.)  The\n",
      "data set contains 3 classes of 50 instances each, where each class refers to a\n",
      "type of iris plant.  One class is linearly separable from the other 2; the\n",
      "latter are NOT linearly separable from each other.\n",
      "\n",
      ".. dropdown:: References\n",
      "\n",
      "  - Fisher, R.A. \"The use of multiple measurements in taxonomic problems\"\n",
      "    Annual Eugenics, 7, Part II, 179-188 (1936); also in \"Contributions to\n",
      "    Mathematical Statistics\" (John Wiley, NY, 1950).\n",
      "  - Duda, R.O., & Hart, P.E. (1973) Pattern Classification and Scene Analysis.\n",
      "    (Q327.D83) John Wiley & Sons.  ISBN 0-471-22361-1.  See page 218.\n",
      "  - Dasarathy, B.V. (1980) \"Nosing Around the Neighborhood: A New System\n",
      "    Structure and Classification Rule for Recognition in Partially Exposed\n",
      "    Environments\".  IEEE Transactions on Pattern Analysis and Machine\n",
      "    Intelligence, Vol. PAMI-2, No. 1, 67-71.\n",
      "  - Gates, G.W. (1972) \"The Reduced Nearest Neighbor Rule\".  IEEE Transactions\n",
      "    on Information Theory, May 1972, 431-433.\n",
      "  - See also: 1988 MLC Proceedings, 54-64.  Cheeseman et al\"s AUTOCLASS II\n",
      "    conceptual clustering system finds 3 classes in the data.\n",
      "  - Many, many more ...\n",
      "\n"
     ]
    }
   ],
   "source": [
    "iris = load_iris()\n",
    "x = np.asarray(iris.data)  # type: ignore\n",
    "y = np.asarray(iris.target)  # type: ignore\n",
    "\n",
    "print(iris.DESCR)  # type: ignore"
   ]
  },
  {
   "cell_type": "code",
   "execution_count": null,
   "metadata": {},
   "outputs": [
    {
     "data": {
      "image/png": "[encoded data removed]",
      "text/plain": [
       "<Figure size 500x500 with 1 Axes>"
      ]
     },
     "metadata": {},
     "output_type": "display_data"
    }
   ],
   "source": [
    "x = x[y != 2, :2]\n",
    "y = y[y != 2]\n",
    "\n",
    "plt.figure(figsize=(5, 5), tight_layout=True)\n",
    "plt.scatter(x[y == 0][:, 0], x[y == 0][:, 1], color=\"red\", label=\"Setosa\", marker=\"o\", s=10)\n",
    "plt.scatter(x[y == 1][:, 0], x[y == 1][:, 1], color=\"black\", label=\"Versicolour\", marker=\"x\", s=10)\n",
    "plt.legend()\n",
    "plt.xlabel(\"Sepal Length (cm)\")\n",
    "plt.ylabel(\"Sepal Width (cm)\")\n",
    "plt.title(\"Two First Features of the Iris Dataset\")\n",
    "plt.show()\n"
   ]
  },
  {
   "cell_type": "markdown",
   "metadata": {},
   "source": [
    "Let's suppose the following simple neural network:\n",
    "\n",
    "<div align=\"center\">\n",
    "    <img width=\"300\" src=\"https://raw.githubusercontent.com/mateuszk098/computer-vision-nets/refs/heads/master/math/g25.png\">\n",
    "</div>\n",
    "\n",
    "and the MSE loss function:\n",
    "\n",
    "$$\n",
    "L = \\frac{1}{2}(y - a_2)^2,\n",
    "$$\n",
    "\n",
    "then calculating everything by hand, we have:"
   ]
  },
  {
   "cell_type": "code",
   "execution_count": 5,
   "metadata": {},
   "outputs": [],
   "source": [
    "@dataclass\n",
    "class NN:\n",
    "    w0: float = np.random.randn() * 1e-3\n",
    "    w1: float = np.random.randn() * 1e-3\n",
    "    w2: float = np.random.randn() * 1e-3\n",
    "    w3: float = np.random.randn() * 1e-3\n",
    "    w4: float = np.random.randn() * 1e-3\n",
    "    w5: float = np.random.randn() * 1e-3\n",
    "    b0: float = np.random.randn() * 1e-3\n",
    "    b1: float = np.random.randn() * 1e-3\n",
    "    b2: float = np.random.randn() * 1e-3\n",
    "\n",
    "\n",
    "def sigmoid(x: NDArray) -> NDArray:\n",
    "    return 1 / (1 + np.exp(-x))\n",
    "\n",
    "\n",
    "def forward(net: NN, x: NDArray) -> NDArray:\n",
    "    out = np.zeros(len(x))\n",
    "\n",
    "    for k in range(len(x)):\n",
    "        z0 = net.w0 * x[k, 0] + net.w2 * x[k, 1] + net.b0\n",
    "        a0 = sigmoid(z0)\n",
    "        z1 = net.w1 * x[k, 0] + net.w3 * x[k, 1] + net.b1\n",
    "        a1 = sigmoid(z1)\n",
    "        a2 = net.w4 * a0 + net.w5 * a1 + net.b2\n",
    "        out[k] = a2\n",
    "\n",
    "    return out\n",
    "\n",
    "\n",
    "def gradient_descent(net: NN, x: NDArray, y: NDArray, epochs: int, lr: float) -> NN:\n",
    "    m = len(x)\n",
    "\n",
    "    for _ in range(epochs):\n",
    "        dw0 = dw1 = dw2 = dw3 = dw4 = dw5 = db0 = db1 = db2 = 0  # Zero gradients.\n",
    "\n",
    "        for k in range(m):\n",
    "            # Forward pass.\n",
    "            z0 = net.w0 * x[k, 0] + net.w2 * x[k, 1] + net.b0\n",
    "            a0 = sigmoid(z0)\n",
    "            z1 = net.w1 * x[k, 0] + net.w3 * x[k, 1] + net.b1\n",
    "            a1 = sigmoid(z1)\n",
    "            a2 = net.w4 * a0 + net.w5 * a1 + net.b2\n",
    "\n",
    "            # Gradients.\n",
    "            dw5 += (a2 - y[k]) * a1\n",
    "            dw4 += (a2 - y[k]) * a0\n",
    "            db2 += a2 - y[k]\n",
    "\n",
    "            dw3 += (a2 - y[k]) * net.w5 * a1 * (1 - a1) * x[k, 1]\n",
    "            dw1 += (a2 - y[k]) * net.w5 * a1 * (1 - a1) * x[k, 0]\n",
    "            db1 += (a2 - y[k]) * net.w5 * a1 * (1 - a1)\n",
    "\n",
    "            dw2 += (a2 - y[k]) * net.w4 * a0 * (1 - a0) * x[k, 1]\n",
    "            dw0 += (a2 - y[k]) * net.w4 * a0 * (1 - a0) * x[k, 0]\n",
    "            db0 += (a2 - y[k]) * net.w4 * a0 * (1 - a0)\n",
    "\n",
    "        # Update weights. We move in the opposite direction to the gradient.\n",
    "        # Because we want to minimize the loss function.\n",
    "        net.w0 -= lr * dw0 / m\n",
    "        net.w1 -= lr * dw1 / m\n",
    "        net.w2 -= lr * dw2 / m\n",
    "        net.w3 -= lr * dw3 / m\n",
    "        net.w4 -= lr * dw4 / m\n",
    "        net.w5 -= lr * dw5 / m\n",
    "        net.b0 -= lr * db0 / m\n",
    "        net.b1 -= lr * db1 / m\n",
    "        net.b2 -= lr * db2 / m\n",
    "\n",
    "    return net\n",
    "\n",
    "\n",
    "def evaluate(net: NN, x: NDArray, y: NDArray) -> float:\n",
    "    out = np.where(forward(net, x) > 0.5, 1, 0)\n",
    "    return np.mean(out == y).item()"
   ]
  },
  {
   "cell_type": "code",
   "execution_count": 6,
   "metadata": {},
   "outputs": [
    {
     "name": "stdout",
     "output_type": "stream",
     "text": [
      "Accuracy Before: 0.5\n"
     ]
    }
   ],
   "source": [
    "x_train, x_test, y_train, y_test = train_test_split(input, y, test_size=0.2, shuffle=True, stratify=y, random_state=42)\n",
    "\n",
    "net = NN()\n",
    "\n",
    "print(\"Accuracy Before:\", evaluate(net, x_test, y_test))"
   ]
  },
  {
   "cell_type": "code",
   "execution_count": 7,
   "metadata": {},
   "outputs": [],
   "source": [
    "net = gradient_descent(net, x_train, y_train, epochs=1000, lr=0.1)"
   ]
  },
  {
   "cell_type": "code",
   "execution_count": 8,
   "metadata": {},
   "outputs": [
    {
     "data": {
      "text/plain": [
       "array([1, 1, 1, 1, 0, 0, 0, 1, 0, 0, 0, 1, 0, 0, 0, 1, 1, 0, 1, 1])"
      ]
     },
     "execution_count": 8,
     "metadata": {},
     "output_type": "execute_result"
    }
   ],
   "source": [
    "np.where(forward(net, x_test) > 0.5, 1, 0)"
   ]
  },
  {
   "cell_type": "code",
   "execution_count": 9,
   "metadata": {},
   "outputs": [
    {
     "data": {
      "text/plain": [
       "array([1, 1, 1, 1, 0, 0, 0, 1, 0, 0, 0, 1, 0, 0, 0, 1, 1, 0, 1, 1])"
      ]
     },
     "execution_count": 9,
     "metadata": {},
     "output_type": "execute_result"
    }
   ],
   "source": [
    "y_test"
   ]
  },
  {
   "cell_type": "code",
   "execution_count": 10,
   "metadata": {},
   "outputs": [
    {
     "name": "stdout",
     "output_type": "stream",
     "text": [
      "Accuracy After: 1.0\n"
     ]
    }
   ],
   "source": [
    "print(\"Accuracy After:\", evaluate(net, x_test, y_test))"
   ]
  },
  {
   "cell_type": "markdown",
   "metadata": {},
   "source": [
    "### **2. Fully Connected Neural Network for MNIST Dataset**"
   ]
  },
  {
   "cell_type": "code",
   "execution_count": 211,
   "metadata": {},
   "outputs": [],
   "source": [
    "def one_hot(y: NDArray) -> NDArray:\n",
    "    return np.eye(len(np.unique(y)))[y]\n",
    "\n",
    "\n",
    "def mse_loss(y_pred: NDArray, y_true: NDArray) -> float:\n",
    "    return np.mean((y_pred - y_true) ** 2).item()\n",
    "\n",
    "\n",
    "def d_mse_loss(y_pred: NDArray, y_true: NDArray) -> NDArray:\n",
    "    return 2 * (y_pred - y_true) / len(y_true)\n",
    "\n",
    "\n",
    "class ActivationLayer:\n",
    "    def forward(self, input: NDArray) -> NDArray:\n",
    "        self.input = input\n",
    "        return self.sigmoid(input)\n",
    "\n",
    "    def backward(self, output_error: NDArray) -> NDArray:\n",
    "        # dE/dx = dE/dy * dy/dx = grad * d_sigmoid/dx\n",
    "        input_error = output_error * self.d_sigmoid(self.input)\n",
    "        return input_error\n",
    "\n",
    "    def step(self, lr: float) -> None:\n",
    "        pass\n",
    "\n",
    "    def sigmoid(self, x: NDArray) -> NDArray:\n",
    "        return 1 / (1 + np.exp(-x))\n",
    "\n",
    "    def d_sigmoid(self, x: NDArray) -> NDArray:\n",
    "        return self.sigmoid(x) * (1 - self.sigmoid(x))\n",
    "\n",
    "\n",
    "class LinearLayer:\n",
    "    def __init__(self, in_features: int, out_features: int) -> None:\n",
    "        self.weight = np.random.randn(in_features, out_features)\n",
    "        self.bias = np.random.randn(1, out_features)\n",
    "\n",
    "    def forward(self, input: NDArray) -> NDArray:\n",
    "        self.input = input\n",
    "        return input @ self.weight + self.bias\n",
    "\n",
    "    def backward(self, output_error: NDArray) -> NDArray:\n",
    "        # dE/dx = dE/dy * dy/dx = grad * d_linear/dx = grad * W.T\n",
    "        input_error = output_error @ self.weight.T\n",
    "        # dE/dW = dE/dy * dy/dW = grad * d_linear/dW = x.T @ grad\n",
    "        self.weight_error = self.input.T @ output_error\n",
    "        # dE/db = dE/dy * dy/db = grad * d_linear/db = grad\n",
    "        self.bias_error = output_error.mean(axis=0, keepdims=True)\n",
    "        return input_error\n",
    "\n",
    "    def step(self, lr: float) -> None:\n",
    "        self.weight -= lr * self.weight_error\n",
    "        self.bias -= lr * self.bias_error\n",
    "\n",
    "        self.weight_error = np.zeros_like(self.weight)\n",
    "        self.bias_error = np.zeros_like(self.bias)\n",
    "\n",
    "\n",
    "class Model:\n",
    "    def __init__(self) -> None:\n",
    "        self.layers = list()\n",
    "\n",
    "    def add(self, layer: LinearLayer | ActivationLayer) -> None:\n",
    "        self.layers.append(layer)\n",
    "\n",
    "    def forward(self, x: NDArray) -> NDArray:\n",
    "        for layer in self.layers:\n",
    "            x = layer.forward(x)\n",
    "        return x\n",
    "\n",
    "    def backward(self, grad: NDArray) -> None:\n",
    "        for layer in reversed(self.layers):\n",
    "            grad = layer.backward(grad)\n",
    "\n",
    "    def step(self, lr: float) -> None:\n",
    "        for layer in self.layers:\n",
    "            layer.step(lr)\n",
    "\n",
    "    def fit(self, x: NDArray, y: NDArray, epochs: int, batch_size: int, lr: float) -> None:\n",
    "        m = len(x)\n",
    "        batches = m // batch_size\n",
    "\n",
    "        for epoch in range(1, epochs + 1):\n",
    "            loss = 0\n",
    "            ids = np.random.permutation(m)\n",
    "            x = x[ids]\n",
    "            y = y[ids]\n",
    "\n",
    "            for i in range(0, m, batch_size):\n",
    "                x_batch = x[i : i + batch_size]\n",
    "                y_batch = y[i : i + batch_size]\n",
    "\n",
    "                y_pred = self.forward(x_batch)\n",
    "                loss += mse_loss(y_pred, y_batch)\n",
    "                grad = d_mse_loss(y_pred, y_batch)\n",
    "\n",
    "                self.backward(grad)\n",
    "                self.step(lr)\n",
    "\n",
    "            if epoch % 100 == 0 or epoch == 1:\n",
    "                print(f\"Epoch: {epoch:4d}/{epochs} Loss: {loss / batches:.5f}\")"
   ]
  },
  {
   "cell_type": "code",
   "execution_count": 230,
   "metadata": {},
   "outputs": [
    {
     "name": "stdout",
     "output_type": "stream",
     "text": [
      "Epoch:    1/2000 Loss: 0.13889\n",
      "Epoch:  100/2000 Loss: 0.08359\n",
      "Epoch:  200/2000 Loss: 0.06669\n",
      "Epoch:  300/2000 Loss: 0.04982\n",
      "Epoch:  400/2000 Loss: 0.03820\n",
      "Epoch:  500/2000 Loss: 0.03117\n",
      "Epoch:  600/2000 Loss: 0.02609\n",
      "Epoch:  700/2000 Loss: 0.02271\n",
      "Epoch:  800/2000 Loss: 0.01976\n",
      "Epoch:  900/2000 Loss: 0.01780\n",
      "Epoch: 1000/2000 Loss: 0.01614\n",
      "Epoch: 1100/2000 Loss: 0.01469\n",
      "Epoch: 1200/2000 Loss: 0.01349\n",
      "Epoch: 1300/2000 Loss: 0.01259\n",
      "Epoch: 1400/2000 Loss: 0.01198\n",
      "Epoch: 1500/2000 Loss: 0.01139\n",
      "Epoch: 1600/2000 Loss: 0.01084\n",
      "Epoch: 1700/2000 Loss: 0.01027\n",
      "Epoch: 1800/2000 Loss: 0.00989\n",
      "Epoch: 1900/2000 Loss: 0.00959\n",
      "Epoch: 2000/2000 Loss: 0.00913\n"
     ]
    }
   ],
   "source": [
    "np.random.seed(42)\n",
    "\n",
    "digits = load_digits()\n",
    "\n",
    "x = np.asarray(digits.data)  # type: ignore\n",
    "y = np.asarray(digits.target)  # type: ignore\n",
    "\n",
    "x_train, x_test, y_train, y_test = train_test_split(x, y, test_size=0.2, shuffle=True, stratify=y, random_state=42)\n",
    "\n",
    "x_train = x_train / 255.0\n",
    "x_test = x_test / 255.0\n",
    "\n",
    "y_train = one_hot(y_train)\n",
    "y_test = one_hot(y_test)\n",
    "\n",
    "model = Model()\n",
    "model.add(LinearLayer(x_train.shape[-1], 32))\n",
    "model.add(ActivationLayer())\n",
    "model.add(LinearLayer(32, 64))\n",
    "model.add(ActivationLayer())\n",
    "model.add(LinearLayer(64, 10))\n",
    "model.add(ActivationLayer())\n",
    "\n",
    "model.fit(x_train, y_train, 2000, 64, 0.1)"
   ]
  },
  {
   "cell_type": "code",
   "execution_count": 231,
   "metadata": {},
   "outputs": [
    {
     "name": "stdout",
     "output_type": "stream",
     "text": [
      "Accuracy: 0.95833\n"
     ]
    }
   ],
   "source": [
    "y_pred = model.forward(x_test).argmax(axis=1)\n",
    "y_true = y_test.argmax(axis=1)\n",
    "\n",
    "print(f\"Accuracy: {np.mean(y_pred == y_true):.5f}\")"
   ]
  },
  {
   "cell_type": "code",
   "execution_count": 232,
   "metadata": {},
   "outputs": [
    {
     "data": {
      "text/plain": [
       "array([[35,  0,  0,  0,  1,  0,  0,  0,  0,  0],\n",
       "       [ 0, 29,  0,  1,  0,  2,  1,  0,  0,  3],\n",
       "       [ 0,  0, 35,  0,  0,  0,  0,  0,  0,  0],\n",
       "       [ 0,  0,  0, 37,  0,  0,  0,  0,  0,  0],\n",
       "       [ 0,  0,  0,  0, 36,  0,  0,  0,  0,  0],\n",
       "       [ 0,  0,  0,  0,  0, 37,  0,  0,  0,  0],\n",
       "       [ 0,  0,  0,  0,  0,  0, 35,  0,  1,  0],\n",
       "       [ 0,  0,  0,  0,  0,  0,  0, 36,  0,  0],\n",
       "       [ 0,  3,  0,  0,  0,  0,  0,  0, 32,  0],\n",
       "       [ 0,  0,  0,  0,  1,  0,  0,  1,  1, 33]])"
      ]
     },
     "execution_count": 232,
     "metadata": {},
     "output_type": "execute_result"
    }
   ],
   "source": [
    "cm = confusion_matrix(y_true, y_pred)\n",
    "cm"
   ]
  }
 ],
 "metadata": {
  "kernelspec": {
   "display_name": ".venv",
   "language": "python",
   "name": "python3"
  },
  "language_info": {
   "codemirror_mode": {
    "name": "ipython",
    "version": 3
   },
   "file_extension": ".py",
   "mimetype": "text/x-python",
   "name": "python",
   "nbconvert_exporter": "python",
   "pygments_lexer": "ipython3",
   "version": "3.12.1"
  }
 },
 "nbformat": 4,
 "nbformat_minor": 2
}
